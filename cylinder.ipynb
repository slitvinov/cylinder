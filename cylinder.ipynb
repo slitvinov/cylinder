{
  "cells": [
    {
      "cell_type": "markdown",
      "id": "638af8d0-01f1-44ca-bcd7-08dbf245f194",
      "metadata": {
        "id": "638af8d0-01f1-44ca-bcd7-08dbf245f194"
      },
      "source": [
        "[![Open In Colab](https://colab.research.google.com/assets/colab-badge.svg)](https://colab.research.google.com/github/slitvinov/cylinder/blob/main/cylinder.ipynb)"
      ]
    },
    {
      "cell_type": "code",
      "execution_count": 1,
      "id": "0JB1029Epexp",
      "metadata": {
        "id": "0JB1029Epexp"
      },
      "outputs": [],
      "source": [
        "%%sh\n",
        "git clone -q https://github.com/slitvinov/cylinder.git"
      ]
    },
    {
      "cell_type": "code",
      "source": [
        "%%sh\n",
        "mpicc -O2 cylinder/deploy/cylinder.c -lm"
      ],
      "metadata": {
        "id": "n6P3yfa8BI7G"
      },
      "id": "n6P3yfa8BI7G",
      "execution_count": 2,
      "outputs": []
    },
    {
      "cell_type": "code",
      "source": [
        "%%sh\n",
        "OMPI_ALLOW_RUN_AS_ROOT_CONFIRM=1 OMPI_ALLOW_RUN_AS_ROOT=1 mpiexec ./a.out -v -i -r 160 -l 7 -m 9 -p 100 -e 10"
      ],
      "metadata": {
        "id": "gncgM-QVBUiZ"
      },
      "id": "gncgM-QVBUiZ",
      "execution_count": null,
      "outputs": []
    }
  ],
  "metadata": {
    "colab": {
      "provenance": []
    },
    "kernelspec": {
      "display_name": "Python 3 (ipykernel)",
      "language": "python",
      "name": "python3"
    },
    "language_info": {
      "codemirror_mode": {
        "name": "ipython",
        "version": 3
      },
      "file_extension": ".py",
      "mimetype": "text/x-python",
      "name": "python",
      "nbconvert_exporter": "python",
      "pygments_lexer": "ipython3",
      "version": "3.13.3"
    }
  },
  "nbformat": 4,
  "nbformat_minor": 5
}